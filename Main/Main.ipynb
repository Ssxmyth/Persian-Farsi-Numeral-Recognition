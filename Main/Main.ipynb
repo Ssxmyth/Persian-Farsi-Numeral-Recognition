{
 "cells": [
  {
   "cell_type": "code",
   "execution_count": 1,
   "id": "e27aaaa8",
   "metadata": {},
   "outputs": [],
   "source": [
    "import numpy as np\n",
    "import matplotlib.pyplot as plt\n",
    "import tensorflow as tf\n",
    "from tensorflow.keras import datasets, layers, models\n",
    "\n",
    "import ipywidgets as widgets\n",
    "import tkinter as tk\n",
    "import cv2\n",
    "from tkinter import filedialog\n",
    "\n",
    "\n",
    "images = np.load(\"X_train_reg.npy\")\n",
    "labels = np.load(\"Y_train_reg.npy\")\n",
    "\n",
    "images = images.reshape([60000,32, 32,1])"
   ]
  },
  {
   "cell_type": "code",
   "execution_count": 3,
   "id": "26f18456",
   "metadata": {},
   "outputs": [
    {
     "name": "stdout",
     "output_type": "stream",
     "text": [
      "Epoch 1/10\n",
      "782/782 [==============================] - 21s 26ms/step - loss: 0.0883 - sparse_categorical_accuracy: 0.9733\n",
      "Epoch 2/10\n",
      "782/782 [==============================] - 20s 26ms/step - loss: 0.0237 - sparse_categorical_accuracy: 0.9927\n",
      "Epoch 3/10\n",
      "782/782 [==============================] - 21s 26ms/step - loss: 0.0123 - sparse_categorical_accuracy: 0.9963\n",
      "Epoch 4/10\n",
      "782/782 [==============================] - 21s 26ms/step - loss: 0.0071 - sparse_categorical_accuracy: 0.9979\n",
      "Epoch 5/10\n",
      "782/782 [==============================] - 20s 26ms/step - loss: 0.0036 - sparse_categorical_accuracy: 0.9988\n",
      "Epoch 6/10\n",
      "782/782 [==============================] - 20s 26ms/step - loss: 0.0029 - sparse_categorical_accuracy: 0.9991\n",
      "Epoch 7/10\n",
      "782/782 [==============================] - 21s 26ms/step - loss: 0.0017 - sparse_categorical_accuracy: 0.9995\n",
      "Epoch 8/10\n",
      "782/782 [==============================] - 21s 26ms/step - loss: 8.9717e-04 - sparse_categorical_accuracy: 0.9997\n",
      "Epoch 9/10\n",
      "782/782 [==============================] - 20s 26ms/step - loss: 0.0011 - sparse_categorical_accuracy: 0.9997\n",
      "Epoch 10/10\n",
      "782/782 [==============================] - 21s 27ms/step - loss: 4.2823e-04 - sparse_categorical_accuracy: 0.9999\n"
     ]
    }
   ],
   "source": [
    "dataset = tf.data.Dataset.from_tensor_slices((images, labels))\n",
    "train_dataset = dataset.take(50000)\n",
    "test_dataset = dataset.skip(50000)\n",
    "\n",
    "BATCH_SIZE = 64\n",
    "SHUFFLE_BUFFER_SIZE = 100\n",
    "\n",
    "train_dataset = train_dataset.shuffle(SHUFFLE_BUFFER_SIZE).batch(BATCH_SIZE)\n",
    "test_dataset = test_dataset.shuffle(SHUFFLE_BUFFER_SIZE).batch(BATCH_SIZE)\n",
    "\n",
    "model = tf.keras.Sequential([\n",
    "    tf.keras.layers.Conv2D(32,(3,3), activation='relu', input_shape=(32,32,1)),\n",
    "    tf.keras.layers.MaxPooling2D((2,2)),\n",
    "    tf.keras.layers.Conv2D(64,(3,3), activation='relu'),\n",
    "    tf.keras.layers.Flatten(),\n",
    "    tf.keras.layers.Dense(128, activation='relu'),\n",
    "    tf.keras.layers.Dense(10)\n",
    "])\n",
    "\n",
    "model.compile(optimizer=tf.keras.optimizers.RMSprop(),\n",
    "              loss=tf.keras.losses.SparseCategoricalCrossentropy(from_logits=True),\n",
    "              metrics=['sparse_categorical_accuracy'])\n",
    "\n",
    "\n",
    "history = model.fit(train_dataset, epochs=10)"
   ]
  },
  {
   "cell_type": "code",
   "execution_count": 18,
   "id": "003d6bdd",
   "metadata": {},
   "outputs": [
    {
     "name": "stdout",
     "output_type": "stream",
     "text": [
      "157/157 - 1s - loss: 0.0509 - sparse_categorical_accuracy: 0.9937 - 1s/epoch - 7ms/step\n"
     ]
    },
    {
     "data": {
      "image/png": "[encoded data removed]",
      "text/plain": [
       "<Figure size 432x288 with 1 Axes>"
      ]
     },
     "metadata": {
      "needs_background": "light"
     },
     "output_type": "display_data"
    }
   ],
   "source": [
    "plt.plot(history.history['sparse_categorical_accuracy'], label='sparse_categorical_accuracy')\n",
    "plt.plot(history.history['loss'], label = 'loss')\n",
    "plt.xlabel('Epoch')\n",
    "plt.ylabel('Percentage in Decimal Form')\n",
    "plt.ylim([0, 1])\n",
    "plt.legend(loc='lower right')\n",
    "\n",
    "test_loss, test_acc = model.evaluate(test_dataset, verbose=2)"
   ]
  },
  {
   "cell_type": "code",
   "execution_count": 9,
   "id": "882a3236",
   "metadata": {},
   "outputs": [
    {
     "name": "stdout",
     "output_type": "stream",
     "text": [
      "[7]\n"
     ]
    },
    {
     "data": {
      "image/png": "[encoded data removed]",
      "text/plain": [
       "<Figure size 432x288 with 1 Axes>"
      ]
     },
     "metadata": {
      "needs_background": "light"
     },
     "output_type": "display_data"
    }
   ],
   "source": [
    "test_img_7 = cv2.imread(\"7.png\",0)\n",
    "test_img_7 = cv2.resize(test_img_7,(32,32)).astype('float32')\n",
    "test_img_7 = (255-test_img_7)\n",
    "test_img_7 = test_img_7 / 255\n",
    "test_img_7 = test_img_7.reshape(1,32,32,1)\n",
    "plt.imshow(test_img_7.reshape([32,32]), cmap='gray')\n",
    "\n",
    "prediction = model.predict(test_img_7)\n",
    "classes = np.argmax(prediction, axis = 1)\n",
    "print(classes)"
   ]
  },
  {
   "cell_type": "code",
   "execution_count": 8,
   "id": "921d857a",
   "metadata": {},
   "outputs": [
    {
     "name": "stdout",
     "output_type": "stream",
     "text": [
      "[4]\n"
     ]
    },
    {
     "data": {
      "image/png": "[encoded data removed]",
      "text/plain": [
       "<Figure size 432x288 with 1 Axes>"
      ]
     },
     "metadata": {
      "needs_background": "light"
     },
     "output_type": "display_data"
    }
   ],
   "source": [
    "test_img_4 = cv2.imread(\"4.png\",0)\n",
    "test_img_4 = cv2.resize(test_img_4,(32,32)).astype('float32')\n",
    "test_img_4 = (255-test_img_4)\n",
    "test_img_4 = test_img_4 / 255\n",
    "test_img_4 = test_img_4.reshape(1,32,32,1)\n",
    "plt.imshow(test_img_4.reshape([32,32]), cmap='gray')\n",
    "\n",
    "prediction = model.predict(test_img_4)\n",
    "classes = np.argmax(prediction, axis = 1)\n",
    "print(classes)"
   ]
  },
  {
   "cell_type": "code",
   "execution_count": null,
   "id": "d00e26d8",
   "metadata": {},
   "outputs": [],
   "source": []
  },
  {
   "cell_type": "code",
   "execution_count": null,
   "id": "e3d62c97",
   "metadata": {},
   "outputs": [],
   "source": []
  },
  {
   "cell_type": "code",
   "execution_count": null,
   "id": "a599c3e3",
   "metadata": {},
   "outputs": [],
   "source": []
  },
  {
   "cell_type": "code",
   "execution_count": null,
   "id": "c155e8b1",
   "metadata": {},
   "outputs": [],
   "source": []
  },
  {
   "cell_type": "code",
   "execution_count": null,
   "id": "1e945536",
   "metadata": {},
   "outputs": [],
   "source": []
  }
 ],
 "metadata": {
  "kernelspec": {
   "display_name": "Python 3 (ipykernel)",
   "language": "python",
   "name": "python3"
  },
  "language_info": {
   "codemirror_mode": {
    "name": "ipython",
    "version": 3
   },
   "file_extension": ".py",
   "mimetype": "text/x-python",
   "name": "python",
   "nbconvert_exporter": "python",
   "pygments_lexer": "ipython3",
   "version": "3.8.10"
  }
 },
 "nbformat": 4,
 "nbformat_minor": 5
}
